{
 "cells": [
  {
   "cell_type": "markdown",
   "id": "ab3fbe6f-6d2f-4a00-abd4-04a486d98fd1",
   "metadata": {},
   "source": [
    "# 耳朵目标检测-预测\n"
   ]
  },
  {
   "cell_type": "markdown",
   "id": "b80f81bd-021e-4fc8-be2c-637e74b5e739",
   "metadata": {},
   "source": [
    "## 进入mmdetection主目录"
   ]
  },
  {
   "cell_type": "code",
   "execution_count": 1,
   "id": "c23edb0e-5239-4bd1-9b7c-90710eee37bd",
   "metadata": {},
   "outputs": [],
   "source": [
    "import os\n",
    "os.chdir('mmdetection')"
   ]
  },
  {
   "cell_type": "markdown",
   "id": "165bbef3-c3d3-49ad-8308-9c6c2ee691f0",
   "metadata": {},
   "source": [
    "## 目标检测预测-单张图像"
   ]
  },
  {
   "cell_type": "code",
   "execution_count": 2,
   "id": "b82b7b68-ff31-4b90-a005-d56d0e9416d0",
   "metadata": {
    "tags": []
   },
   "outputs": [
    {
     "name": "stdout",
     "output_type": "stream",
     "text": [
      "Loads checkpoint by local backend from path: work_dirs/rtmdet_tiny_ear/epoch_200.pth\n",
      "06/06 00:30:22 - mmengine - \u001b[5m\u001b[4m\u001b[33mWARNING\u001b[0m - Failed to search registry with scope \"mmdet\" in the \"function\" registry tree. As a workaround, the current \"function\" registry in \"mmengine\" is used to build instance. This may cause unexpected failure when running the built modules. Please check whether \"mmdet\" is a correct scope, or whether the registry is initialized.\n",
      "06/06 00:30:22 - mmengine - \u001b[5m\u001b[4m\u001b[33mWARNING\u001b[0m - `Visualizer` backend is not initialized because save_dir is None.\n",
      "\u001b[2K/environment/miniconda3/lib/python3.7/site-packages/torch/functional.py:445: [0m\u001b[90m━\u001b[0m\u001b[90m━\u001b[0m\u001b[90m━\u001b[0m\u001b[90m━\u001b[0m\u001b[90m━\u001b[0m\u001b[90m━\u001b[0m\u001b[90m━\u001b[0m\u001b[90m━\u001b[0m\u001b[90m━\u001b[0m\u001b[90m━\u001b[0m\u001b[35m━\u001b[0m\u001b[91m━\u001b[0m\u001b[91m━\u001b[0m\u001b[91m━\u001b[0m\u001b[91m━\u001b[0m\u001b[91m━\u001b[0m\u001b[91m━\u001b[0m\u001b[91m━\u001b[0m\u001b[35m━\u001b[0m\u001b[90m━\u001b[0m\u001b[90m━\u001b[0m\u001b[90m━\u001b[0m\u001b[90m━\u001b[0m\u001b[90m━\u001b[0m\u001b[90m━\u001b[0m\u001b[90m━\u001b[0m\u001b[90m━\u001b[0m\u001b[90m━\u001b[0m\u001b[90m━\u001b[0m\u001b[90m━\u001b[0m\u001b[35m━\u001b[0m\u001b[91m━\u001b[0m\u001b[91m━\u001b[0m  \u001b[36m \u001b[0m\n",
      "UserWarning: torch.meshgrid: in an upcoming release, it will be required to pass\n",
      "the indexing argument. (Triggered internally at  \n",
      "../aten/src/ATen/native/TensorShape.cpp:2157.)\n",
      "  return _VF.meshgrid(tensors, **kwargs)  # type: ignore[attr-defined]\n",
      "\u001b[2K/environment/miniconda3/lib/python3.7/site-packages/mmengine/visualization/visuam━\u001b[0m\u001b[90m━\u001b[0m\u001b[90m━\u001b[0m\u001b[90m━\u001b[0m\u001b[90m━\u001b[0m\u001b[90m━\u001b[0m\u001b[90m━\u001b[0m\u001b[90m━\u001b[0m\u001b[90m━\u001b[0m\u001b[90m━\u001b[0m\u001b[35m━\u001b[0m\u001b[91m━\u001b[0m\u001b[91m━\u001b[0m\u001b[91m━\u001b[0m\u001b[91m━\u001b[0m\u001b[91m━\u001b[0m\u001b[91m━\u001b[0m\u001b[91m━\u001b[0m\u001b[35m━\u001b[0m\u001b[90m━\u001b[0m\u001b[90m━\u001b[0m\u001b[90m━\u001b[0m\u001b[90m━\u001b[0m\u001b[90m━\u001b[0m\u001b[90m━\u001b[0m\u001b[90m━\u001b[0m\u001b[90m━\u001b[0m\u001b[90m━\u001b[0m\u001b[90m━\u001b[0m\u001b[90m━\u001b[0m\u001b[35m━\u001b[0m\u001b[91m━\u001b[0m\u001b[91m━\u001b[0m  \u001b[36m \u001b[0m\n",
      "lizer.py:759: UserWarning: Warning: The bbox is out of bounds, the drawn bbox \n",
      "may not be in the image\n",
      "  ' the drawn bbox may not be in the image', UserWarning)\n",
      "\u001b[2K/environment/miniconda3/lib/python3.7/site-packages/mmengine/visualization/visuam━\u001b[0m\u001b[90m━\u001b[0m\u001b[90m━\u001b[0m\u001b[90m━\u001b[0m\u001b[90m━\u001b[0m\u001b[90m━\u001b[0m\u001b[90m━\u001b[0m\u001b[90m━\u001b[0m\u001b[90m━\u001b[0m\u001b[90m━\u001b[0m\u001b[35m━\u001b[0m\u001b[91m━\u001b[0m\u001b[91m━\u001b[0m\u001b[91m━\u001b[0m\u001b[91m━\u001b[0m\u001b[91m━\u001b[0m\u001b[91m━\u001b[0m\u001b[91m━\u001b[0m\u001b[35m━\u001b[0m\u001b[90m━\u001b[0m\u001b[90m━\u001b[0m\u001b[90m━\u001b[0m\u001b[90m━\u001b[0m\u001b[90m━\u001b[0m\u001b[90m━\u001b[0m\u001b[90m━\u001b[0m\u001b[90m━\u001b[0m\u001b[90m━\u001b[0m\u001b[90m━\u001b[0m\u001b[90m━\u001b[0m\u001b[35m━\u001b[0m\u001b[91m━\u001b[0m\u001b[91m━\u001b[0m  \u001b[36m \u001b[0m\n",
      "lizer.py:830: UserWarning: Warning: The polygon is out of bounds, the drawn \n",
      "polygon may not be in the image\n",
      "  ' the drawn polygon may not be in the image', UserWarning)\n",
      "\u001b[2KInference \u001b[35m━\u001b[0m\u001b[91m━\u001b[0m\u001b[91m━\u001b[0m\u001b[91m━\u001b[0m\u001b[91m━\u001b[0m\u001b[91m━\u001b[0m\u001b[91m━\u001b[0m\u001b[91m━\u001b[0m\u001b[35m━\u001b[0m\u001b[90m━\u001b[0m\u001b[90m━\u001b[0m\u001b[90m━\u001b[0m\u001b[90m━\u001b[0m\u001b[90m━\u001b[0m\u001b[90m━\u001b[0m\u001b[90m━\u001b[0m\u001b[90m━\u001b[0m\u001b[90m━\u001b[0m\u001b[90m━\u001b[0m\u001b[90m━\u001b[0m\u001b[35m━\u001b[0m\u001b[91m━\u001b[0m\u001b[91m━\u001b[0m\u001b[91m━\u001b[0m\u001b[91m━\u001b[0m\u001b[91m━\u001b[0m\u001b[91m━\u001b[0m\u001b[91m━\u001b[0m\u001b[35m━\u001b[0m\u001b[90m━\u001b[0m\u001b[90m━\u001b[0m\u001b[90m━\u001b[0m\u001b[90m━\u001b[0m\u001b[90m━\u001b[0m\u001b[90m━\u001b[0m\u001b[90m━\u001b[0m\u001b[90m━\u001b[0m\u001b[90m━\u001b[0m\u001b[90m━\u001b[0m\u001b[90m━\u001b[0m  \u001b[36m \u001b[0m\n",
      "\u001b[?25hresults have been saved at outputs/E2_rtmdet\n"
     ]
    }
   ],
   "source": [
    "# RTMDet\n",
    "!python demo/image_demo.py \\\n",
    "        data/test_ear/ear_1.jpg \\\n",
    "        data/rtmdet_tiny_ear.py \\\n",
    "        --weights work_dirs/rtmdet_tiny_ear/epoch_200.pth \\\n",
    "        --out-dir outputs/E2_rtmdet \\\n",
    "        --device cuda:0 \\\n",
    "        --pred-score-thr 0.3"
   ]
  },
  {
   "cell_type": "markdown",
   "id": "66e27a2b-e77a-4377-a28a-69eadce8b49c",
   "metadata": {},
   "source": [
    "## 目标检测预测-视频"
   ]
  },
  {
   "cell_type": "code",
   "execution_count": 5,
   "id": "14a4f4c4-12f2-43dc-ad24-faf57d26bc27",
   "metadata": {},
   "outputs": [
    {
     "name": "stdout",
     "output_type": "stream",
     "text": [
      "Loads checkpoint by local backend from path: checkpoint/rtmdet_tiny_triangle_epoch_200_202305120847-3cd02a8f.pth\n",
      "05/18 10:37:30 - mmengine - \u001b[5m\u001b[4m\u001b[33mWARNING\u001b[0m - `Visualizer` backend is not initialized because save_dir is None.\n",
      "[                                                  ] 0/318, elapsed: 0s, ETA:/environment/miniconda3/lib/python3.7/site-packages/torch/functional.py:445: UserWarning: torch.meshgrid: in an upcoming release, it will be required to pass the indexing argument. (Triggered internally at  ../aten/src/ATen/native/TensorShape.cpp:2157.)\n",
      "  return _VF.meshgrid(tensors, **kwargs)  # type: ignore[attr-defined]\n",
      "[>>>>>>>>>>>>>                 ] 142/318, 4.0 task/s, elapsed: 36s, ETA:    45s/environment/miniconda3/lib/python3.7/site-packages/mmengine/visualization/visualizer.py:759: UserWarning: Warning: The bbox is out of bounds, the drawn bbox may not be in the image\n",
      "  ' the drawn bbox may not be in the image', UserWarning)\n",
      "/environment/miniconda3/lib/python3.7/site-packages/mmengine/visualization/visualizer.py:830: UserWarning: Warning: The polygon is out of bounds, the drawn polygon may not be in the image\n",
      "  ' the drawn polygon may not be in the image', UserWarning)\n",
      "[>>>>>>>>>>>>>>>>>>>>>>>>>>>>>>] 318/318, 4.0 task/s, elapsed: 80s, ETA:     0s\n"
     ]
    }
   ],
   "source": [
    "# RTMDet\n",
    "!python demo/video_demo.py \\\n",
    "        data/test_ear/ear_2.mp4 \\\n",
    "        data/rtmdet_tiny_ear.py \\\n",
    "        work_dirs/rtmdet_tiny_ear/epoch_200.pth \\\n",
    "        --device cuda:0 \\\n",
    "        --score-thr 0.6 \\\n",
    "        --out outputs/E2_out_video_rtmdet.mp4"
   ]
  },
  {
   "cell_type": "code",
   "execution_count": null,
   "id": "55905481-5943-4871-a456-fb6def0c5146",
   "metadata": {},
   "outputs": [],
   "source": []
  }
 ],
 "metadata": {
  "kernelspec": {
   "display_name": "Python 3 (ipykernel)",
   "language": "python",
   "name": "python3"
  },
  "language_info": {
   "codemirror_mode": {
    "name": "ipython",
    "version": 3
   },
   "file_extension": ".py",
   "mimetype": "text/x-python",
   "name": "python",
   "nbconvert_exporter": "python",
   "pygments_lexer": "ipython3",
   "version": "3.7.10"
  }
 },
 "nbformat": 4,
 "nbformat_minor": 5
}
